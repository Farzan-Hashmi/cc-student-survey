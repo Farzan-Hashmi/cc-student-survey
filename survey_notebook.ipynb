{
 "cells": [
  {
   "cell_type": "markdown",
   "id": "59208f9b",
   "metadata": {},
   "source": [
    "# Importing required libraries\n",
    "\n",
    "- **Bamboolib** is a free library that gives pandas a GUI interface. It makes it very easy to get graphs and manipulate the rows and columns of the data frame\n",
    "\n",
    "- **pandas** is the most popular data frame library in python. it just makes it easy to store and manipulate data "
   ]
  },
  {
   "cell_type": "code",
   "execution_count": 18,
   "id": "3ea06ae1",
   "metadata": {},
   "outputs": [],
   "source": [
    "import bamboolib as bam\n",
    "import pandas as pd"
   ]
  },
  {
   "cell_type": "markdown",
   "id": "b6ec89c7",
   "metadata": {},
   "source": [
    "# Getting the data from the google sheet\n",
    "\n",
    "- the following block of code just reads the data from the google sheets where the survey data is going to.(https://docs.google.com/spreadsheets/d/12ojjnk25qPNqnhrhIPjBmfLIDbD3aoynV7emSwuaK7Y/edit#gid=324197163)\n",
    "\n"
   ]
  },
  {
   "cell_type": "code",
   "execution_count": 20,
   "id": "c48b2998",
   "metadata": {},
   "outputs": [],
   "source": [
    "gsheetid = \"12ojjnk25qPNqnhrhIPjBmfLIDbD3aoynV7emSwuaK7Y\"\n",
    "sheet_name = \"data\"\n",
    "gsheet_url = \"https://docs.google.com/spreadsheets/d/{}/gviz/tq?tqx=out:csv&sheet={}\".format(gsheetid, sheet_name)\n",
    "df = pd.read_csv(gsheet_url)"
   ]
  },
  {
   "cell_type": "markdown",
   "id": "ab7f6339",
   "metadata": {},
   "source": [
    "### Dropping Unncessary Columns"
   ]
  },
  {
   "cell_type": "code",
   "execution_count": 21,
   "id": "5bb3809d",
   "metadata": {},
   "outputs": [],
   "source": [
    "df = df.drop(columns=['Timestamp']) #The Timestamp column really is not needed in our study"
   ]
  },
  {
   "cell_type": "markdown",
   "id": "d517f593",
   "metadata": {},
   "source": [
    "# Looking at relationships between the data\n",
    "\n",
    "- bamboolib has a function patterns() which shows the predictive powet score of all the variables. Think of it as a better version of coerrelation. We will still use a coerrelation matrix later on though"
   ]
  },
  {
   "cell_type": "code",
   "execution_count": 24,
   "id": "3de402fb",
   "metadata": {
    "scrolled": false
   },
   "outputs": [
    {
     "data": {
      "application/vnd.jupyter.widget-view+json": {
       "model_id": "83d30462e036406ebd5a62140d8dc2e7",
       "version_major": 2,
       "version_minor": 0
      },
      "text/plain": [
       "TabSection(children=(BrowserCheck(), HBox(children=(Tab(closable=False, title='patterns', _dom_classes=('bambo…"
      ]
     },
     "metadata": {},
     "output_type": "display_data"
    }
   ],
   "source": [
    "bam.patterns(df) "
   ]
  },
  {
   "cell_type": "markdown",
   "id": "ae028320",
   "metadata": {},
   "source": [
    "## Observing the relationship between 'in person?' and 'more_distracted_at_home?'"
   ]
  },
  {
   "cell_type": "code",
   "execution_count": 25,
   "id": "3a82e85b",
   "metadata": {
    "scrolled": true
   },
   "outputs": [
    {
     "data": {
      "application/vnd.jupyter.widget-view+json": {
       "model_id": "92493a3d57cf419a956964f452a0bd47",
       "version_major": 2,
       "version_minor": 0
      },
      "text/plain": [
       "TabSection(children=(BrowserCheck(), HBox(children=(Tab(closable=False, title='plot', _dom_classes=('bamboolib…"
      ]
     },
     "metadata": {},
     "output_type": "display_data"
    }
   ],
   "source": [
    "bam.plot(df, 'in person?', 'more_distracted_at_home?')"
   ]
  },
  {
   "cell_type": "code",
   "execution_count": 9,
   "id": "21f6ae9f",
   "metadata": {
    "scrolled": false
   },
   "outputs": [],
   "source": [
    "df['in person?_label'] = df['in person?'].factorize(sort=False, na_sentinel=-1)[0]\n",
    "df['major_label'] = df['major'].factorize(sort=False, na_sentinel=-1)[0]\n",
    "df['labs?_label'] = df['labs?'].factorize(sort=False, na_sentinel=-1)[0]\n",
    "df['easy_internet?_label'] = df['easy_internet?'].factorize(sort=False, na_sentinel=-1)[0]\n",
    "df['more_distracted_at_home?_label'] = df['more_distracted_at_home?'].factorize(sort=False, na_sentinel=-1)[0]"
   ]
  },
  {
   "cell_type": "code",
   "execution_count": 15,
   "id": "d132cd5d",
   "metadata": {},
   "outputs": [
    {
     "data": {
      "application/vnd.jupyter.widget-view+json": {
       "model_id": "ed8db5e41e4a41b19db4171524b2076c",
       "version_major": 2,
       "version_minor": 0
      },
      "text/plain": [
       "TabSection(children=(BrowserCheck(), HBox(children=(Tab(closable=False, title='correlations', _dom_classes=('b…"
      ]
     },
     "metadata": {},
     "output_type": "display_data"
    }
   ],
   "source": [
    "bam.correlations(df)"
   ]
  },
  {
   "cell_type": "code",
   "execution_count": 16,
   "id": "0026fe57",
   "metadata": {
    "scrolled": false
   },
   "outputs": [
    {
     "data": {
      "application/vnd.jupyter.widget-view+json": {
       "model_id": "cdb0b033b93b448e9f4b23f1595f7956",
       "version_major": 2,
       "version_minor": 0
      },
      "text/plain": [
       "TabSection(children=(BrowserCheck(), HBox(children=(Tab(closable=False, title='plot', _dom_classes=('bamboolib…"
      ]
     },
     "metadata": {},
     "output_type": "display_data"
    }
   ],
   "source": [
    "bam.plot(df, 'in person?', 'more_distracted_at_home?')"
   ]
  },
  {
   "cell_type": "code",
   "execution_count": 17,
   "id": "5cc7ce8f",
   "metadata": {},
   "outputs": [
    {
     "data": {
      "application/vnd.jupyter.widget-view+json": {
       "model_id": "4f53933ec5a64ebf83fd8b190660fb53",
       "version_major": 2,
       "version_minor": 0
      },
      "text/plain": [
       "TabSection(children=(BrowserCheck(), HBox(children=(Tab(closable=False, title='plot', _dom_classes=('bamboolib…"
      ]
     },
     "metadata": {},
     "output_type": "display_data"
    }
   ],
   "source": [
    "bam.plot(df, 'in person?', 'labs?')"
   ]
  }
 ],
 "metadata": {
  "kernelspec": {
   "display_name": "Python 3 (ipykernel)",
   "language": "python",
   "name": "python3"
  },
  "language_info": {
   "codemirror_mode": {
    "name": "ipython",
    "version": 3
   },
   "file_extension": ".py",
   "mimetype": "text/x-python",
   "name": "python",
   "nbconvert_exporter": "python",
   "pygments_lexer": "ipython3",
   "version": "3.8.10"
  }
 },
 "nbformat": 4,
 "nbformat_minor": 5
}
